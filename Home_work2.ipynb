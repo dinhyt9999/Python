{
  "nbformat": 4,
  "nbformat_minor": 0,
  "metadata": {
    "colab": {
      "name": "Home_work2.ipynb",
      "provenance": [],
      "authorship_tag": "ABX9TyOU9dyhRbFYwmrc+0bkQsX/",
      "include_colab_link": true
    },
    "kernelspec": {
      "name": "python3",
      "display_name": "Python 3"
    }
  },
  "cells": [
    {
      "cell_type": "markdown",
      "metadata": {
        "id": "view-in-github",
        "colab_type": "text"
      },
      "source": [
        "<a href=\"https://colab.research.google.com/github/dinhyt9999/Python/blob/master/Home_work2.ipynb\" target=\"_parent\"><img src=\"https://colab.research.google.com/assets/colab-badge.svg\" alt=\"Open In Colab\"/></a>"
      ]
    },
    {
      "cell_type": "markdown",
      "metadata": {
        "id": "soF9AgiiRnsX",
        "colab_type": "text"
      },
      "source": [
        "Function Ex5:"
      ]
    },
    {
      "cell_type": "code",
      "metadata": {
        "id": "NMmP7KS7Rm1a",
        "colab_type": "code",
        "colab": {
          "base_uri": "https://localhost:8080/",
          "height": 51
        },
        "outputId": "cf12d1e8-3108-4a2b-816f-ec02e2d8bf9a"
      },
      "source": [
        "import math\n",
        "\n",
        "def prime_number(number):\n",
        "  if number < 2 or number != int(number):\n",
        "    return False\n",
        "  else:\n",
        "    n = int(math.sqrt(number))\n",
        "  if n == 1:\n",
        "    return True\n",
        "  for i in range(2,n+1):\n",
        "    if number % i == 0:\n",
        "      return False\n",
        "  if i == n:\n",
        "    return True\n",
        "\n",
        "number = float(input('number = '))\n",
        "if prime_number(number):\n",
        "  print(number,'is a prime number')\n",
        "else:\n",
        "  print(number,'is not a prime number')"
      ],
      "execution_count": 94,
      "outputs": [
        {
          "output_type": "stream",
          "text": [
            "number = 37\n",
            "37.0 is a prime number\n"
          ],
          "name": "stdout"
        }
      ]
    },
    {
      "cell_type": "markdown",
      "metadata": {
        "id": "0h3q16H6WjDK",
        "colab_type": "text"
      },
      "source": [
        "Function Ex6:"
      ]
    },
    {
      "cell_type": "code",
      "metadata": {
        "id": "Vysa10JMWnAx",
        "colab_type": "code",
        "colab": {
          "base_uri": "https://localhost:8080/",
          "height": 51
        },
        "outputId": "9a42b37d-964d-4778-e876-88b0a205548e"
      },
      "source": [
        "def armstrong_number(number):\n",
        "  if number < 0 or number != int(number):\n",
        "    return False\n",
        "  k = 0\n",
        "  n = number\n",
        "  list = []\n",
        "  sum = 0\n",
        "  while n:\n",
        "    k += 1\n",
        "    list.append(n % 10)\n",
        "    n = int(n / 10)\n",
        "  for i in range(k):\n",
        "    sum += list[i] ** k\n",
        "  if sum == number:\n",
        "    return True\n",
        "  else:\n",
        "    return False\n",
        "\n",
        "number = float(input('number = '))\n",
        "if armstrong_number(number): \n",
        "  print(number,'is a armstrong number')\n",
        "else:\n",
        "  print(number,'is not a armstrong number')"
      ],
      "execution_count": 89,
      "outputs": [
        {
          "output_type": "stream",
          "text": [
            "number = 1634\n",
            "1634.0 is a armstrong number\n"
          ],
          "name": "stdout"
        }
      ]
    },
    {
      "cell_type": "markdown",
      "metadata": {
        "id": "m-8I1N1MbKH5",
        "colab_type": "text"
      },
      "source": [
        "Function Ex7:"
      ]
    },
    {
      "cell_type": "code",
      "metadata": {
        "id": "ckk_ppjDbJlN",
        "colab_type": "code",
        "colab": {
          "base_uri": "https://localhost:8080/",
          "height": 51
        },
        "outputId": "5fbf858a-24d4-4d7d-a38c-1d484a4a8aac"
      },
      "source": [
        "def palindromic_number(number):\n",
        "  if number < 0 or number != int(number):\n",
        "    return False\n",
        "  n = number\n",
        "  k = 0\n",
        "  list = []\n",
        "  while n:\n",
        "    k += 1\n",
        "    list.append(n % 10)\n",
        "    n = int(n / 10)\n",
        "  for i in range(int(k/2)):\n",
        "    if list[i] != list[k-i-1]:\n",
        "      return False\n",
        "  return True\n",
        "\n",
        "number = float(input('number = '))\n",
        "if palindromic_number(number):\n",
        "  print(number,'is a palindromic number')\n",
        "else:\n",
        "  print(number,'is not a palindromic number')"
      ],
      "execution_count": 97,
      "outputs": [
        {
          "output_type": "stream",
          "text": [
            "number = 1331\n",
            "1331.0 is a palindromic number\n"
          ],
          "name": "stdout"
        }
      ]
    },
    {
      "cell_type": "markdown",
      "metadata": {
        "id": "vu_qDXqRgSCa",
        "colab_type": "text"
      },
      "source": [
        "List Ex4,5,6:"
      ]
    },
    {
      "cell_type": "code",
      "metadata": {
        "id": "w-ZB5zUoDlUS",
        "colab_type": "code",
        "colab": {
          "base_uri": "https://localhost:8080/",
          "height": 153
        },
        "outputId": "e2f55886-df3d-47c7-feaf-ef054a4a427c"
      },
      "source": [
        "import math\n",
        "\n",
        "def sum_list(list):\n",
        "  sum = 0\n",
        "  for item in list:\n",
        "    sum += item\n",
        "  return sum\n",
        "\n",
        "def average(list):\n",
        "  return sum_list(list)/len(list)\n",
        "\n",
        "def standard_deviation(list):\n",
        "  average_number = average(list)\n",
        "  sum = 0\n",
        "  for item in list:\n",
        "    sum += (item - average_number) ** 2\n",
        "  return math.sqrt(sum/(len(list)-1))\n",
        "\n",
        "list = []\n",
        "n = int(input('nhap vao so phan tu cua mang n = '))\n",
        "for i in range(n):\n",
        "  list.append(float(input('nhap vao so thu %d: '%(i+1))))\n",
        "\n",
        "print('standard deviation =',standard_deviation(list))"
      ],
      "execution_count": 77,
      "outputs": [
        {
          "output_type": "stream",
          "text": [
            "nhap vao so phan tu cua mang n = 6\n",
            "nhap vao so thu 1: 10\n",
            "nhap vao so thu 2: 8\n",
            "nhap vao so thu 3: 10\n",
            "nhap vao so thu 4: 8\n",
            "nhap vao so thu 5: 8\n",
            "nhap vao so thu 6: 4\n",
            "standard deviation = 2.1908902300206643\n"
          ],
          "name": "stdout"
        }
      ]
    },
    {
      "cell_type": "markdown",
      "metadata": {
        "id": "E02hm3HfjT2f",
        "colab_type": "text"
      },
      "source": [
        "List Ex7,8:"
      ]
    },
    {
      "cell_type": "code",
      "metadata": {
        "id": "JGCrM5tqEROC",
        "colab_type": "code",
        "colab": {
          "base_uri": "https://localhost:8080/",
          "height": 34
        },
        "outputId": "279689b1-04db-45a2-da68-902343dadf36"
      },
      "source": [
        "def clone_list(list):\n",
        "  new_list = []\n",
        "  for item in list:\n",
        "    new_list.append(item)\n",
        "  return new_list\n",
        "\n",
        "def remove_list(list):\n",
        "  new_list = clone_list(list)\n",
        "  for item in list:\n",
        "    new_list.remove(item)\n",
        "    if item in new_list:\n",
        "      list.remove(item)\n",
        "  return list\n",
        "print(remove_list([1,1,3,5,3,2,5]))"
      ],
      "execution_count": null,
      "outputs": [
        {
          "output_type": "stream",
          "text": [
            "[1, 3, 2, 5]\n"
          ],
          "name": "stdout"
        }
      ]
    },
    {
      "cell_type": "markdown",
      "metadata": {
        "id": "wu5kYnZyjaMB",
        "colab_type": "text"
      },
      "source": [
        "List Ex9:"
      ]
    },
    {
      "cell_type": "code",
      "metadata": {
        "id": "PHwbU1YIjclM",
        "colab_type": "code",
        "colab": {
          "base_uri": "https://localhost:8080/",
          "height": 170
        },
        "outputId": "4ccf165d-5c54-4305-801b-e9de1a1827ce"
      },
      "source": [
        "def swap(list,p1,p2):\n",
        "  list[p1], list[p2] = list[p2], list[p1]\n",
        "  return list\n",
        "\n",
        "def merge_and_sort(list1,list2):\n",
        "  list = list1 + list2\n",
        "  for i in range(len(list)-1):\n",
        "    for j in range(i+1,len(list)):\n",
        "      if list[i] > list[j]:\n",
        "        swap(list,i,j)\n",
        "  return list\n",
        "\n",
        "def create_new_list():\n",
        "  list = []\n",
        "  n = int(input('nhap vao so phan tu cua mang n = '))\n",
        "  for i in range(n):\n",
        "    list.append(float(input('nhap vao so thu %d: '%(i+1))))\n",
        "  return list\n",
        "\n",
        "list1 = create_new_list()\n",
        "list2 = create_new_list()\n",
        "print('new list:',merge_and_sort(list1,list2))"
      ],
      "execution_count": 85,
      "outputs": [
        {
          "output_type": "stream",
          "text": [
            "nhap vao so phan tu cua mang n = 3\n",
            "nhap vao so thu 1: 15\n",
            "nhap vao so thu 2: 28\n",
            "nhap vao so thu 3: 19\n",
            "nhap vao so phan tu cua mang n = 3\n",
            "nhap vao so thu 1: 34\n",
            "nhap vao so thu 2: 17\n",
            "nhap vao so thu 3: 21\n",
            "new list: [15.0, 17.0, 19.0, 21.0, 28.0, 34.0]\n"
          ],
          "name": "stdout"
        }
      ]
    },
    {
      "cell_type": "markdown",
      "metadata": {
        "id": "demaK7eooRbQ",
        "colab_type": "text"
      },
      "source": [
        "List Ex10:"
      ]
    },
    {
      "cell_type": "code",
      "metadata": {
        "id": "XsMk9V9ZoTBC",
        "colab_type": "code",
        "colab": {
          "base_uri": "https://localhost:8080/",
          "height": 170
        },
        "outputId": "f0240393-fda0-42b3-b945-00b3e149264e"
      },
      "source": [
        "def list_prime_number(list):\n",
        "  new_list = []\n",
        "  for item in list:\n",
        "    if prime_number(item):\n",
        "      new_list.append(item)\n",
        "  return new_list\n",
        "\n",
        "list = create_new_list()\n",
        "print('list prime number:',list_prime_number(list))"
      ],
      "execution_count": 95,
      "outputs": [
        {
          "output_type": "stream",
          "text": [
            "nhap vao so phan tu cua mang n = 7\n",
            "nhap vao so thu 1: 1\n",
            "nhap vao so thu 2: 2\n",
            "nhap vao so thu 3: 3\n",
            "nhap vao so thu 4: 4\n",
            "nhap vao so thu 5: 5\n",
            "nhap vao so thu 6: 6\n",
            "nhap vao so thu 7: 7\n",
            "list prime number: [2.0, 3.0, 5.0, 7.0]\n"
          ],
          "name": "stdout"
        }
      ]
    },
    {
      "cell_type": "markdown",
      "metadata": {
        "id": "UQZMk0VQrul2",
        "colab_type": "text"
      },
      "source": [
        "List Ex11:"
      ]
    },
    {
      "cell_type": "code",
      "metadata": {
        "id": "0h0-19SSrxWq",
        "colab_type": "code",
        "colab": {
          "base_uri": "https://localhost:8080/",
          "height": 221
        },
        "outputId": "a0d45035-2f3f-4fb8-da22-fcdfcbbbfc13"
      },
      "source": [
        "def list_armstrong_number(list):\n",
        "  new_list = []\n",
        "  for item in list:\n",
        "    if armstrong_number(item):\n",
        "      new_list.append(item)\n",
        "  return new_list\n",
        "\n",
        "list = create_new_list()\n",
        "print('list armstrong number:',list_armstrong_number(list))"
      ],
      "execution_count": 96,
      "outputs": [
        {
          "output_type": "stream",
          "text": [
            "nhap vao so phan tu cua mang n = 10\n",
            "nhap vao so thu 1: 1\n",
            "nhap vao so thu 2: 11\n",
            "nhap vao so thu 3: 370\n",
            "nhap vao so thu 4: 153\n",
            "nhap vao so thu 5: 371\n",
            "nhap vao so thu 6: 1634\n",
            "nhap vao so thu 7: 22\n",
            "nhap vao so thu 8: 186\n",
            "nhap vao so thu 9: 574\n",
            "nhap vao so thu 10: 1000\n",
            "list armstrong number: [1.0, 370.0, 153.0, 371.0, 1634.0]\n"
          ],
          "name": "stdout"
        }
      ]
    },
    {
      "cell_type": "markdown",
      "metadata": {
        "id": "T7FiN_-1sEji",
        "colab_type": "text"
      },
      "source": [
        "List Ex12:"
      ]
    },
    {
      "cell_type": "code",
      "metadata": {
        "id": "BMrkCYU3sGe3",
        "colab_type": "code",
        "colab": {
          "base_uri": "https://localhost:8080/",
          "height": 136
        },
        "outputId": "d9dca164-55ba-4caf-a903-76d234f625dc"
      },
      "source": [
        "def list_palindromic_number(list):\n",
        "  new_list = []\n",
        "  for item in list:\n",
        "    if palindromic_number(item):\n",
        "      new_list.append(item)\n",
        "  return new_list\n",
        "\n",
        "list = create_new_list()\n",
        "print('list prime number:',list_palindromic_number(list))"
      ],
      "execution_count": 98,
      "outputs": [
        {
          "output_type": "stream",
          "text": [
            "nhap vao so phan tu cua mang n = 5\n",
            "nhap vao so thu 1: 15\n",
            "nhap vao so thu 2: 22\n",
            "nhap vao so thu 3: 1881\n",
            "nhap vao so thu 4: 547\n",
            "nhap vao so thu 5: 694496\n",
            "list prime number: [22.0, 1881.0, 694496.0]\n"
          ],
          "name": "stdout"
        }
      ]
    }
  ]
}