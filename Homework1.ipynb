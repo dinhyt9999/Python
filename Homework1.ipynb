{
  "nbformat": 4,
  "nbformat_minor": 0,
  "metadata": {
    "colab": {
      "name": "Homework1.ipynb",
      "provenance": [],
      "authorship_tag": "ABX9TyOIDBX4Na+r/mR2f32KtnPb",
      "include_colab_link": true
    },
    "kernelspec": {
      "name": "python3",
      "display_name": "Python 3"
    }
  },
  "cells": [
    {
      "cell_type": "markdown",
      "metadata": {
        "id": "view-in-github",
        "colab_type": "text"
      },
      "source": [
        "<a href=\"https://colab.research.google.com/github/dinhyt9999/Python/blob/master/Homework1.ipynb\" target=\"_parent\"><img src=\"https://colab.research.google.com/assets/colab-badge.svg\" alt=\"Open In Colab\"/></a>"
      ]
    },
    {
      "cell_type": "markdown",
      "metadata": {
        "id": "ArpSkWl0_bxu",
        "colab_type": "text"
      },
      "source": [
        "Ex1:"
      ]
    },
    {
      "cell_type": "code",
      "metadata": {
        "id": "GtvCTOrp_Pmj",
        "colab_type": "code",
        "colab": {
          "base_uri": "https://localhost:8080/",
          "height": 136
        },
        "outputId": "343e4d4e-85b8-4b7b-d2f3-87f69c732e5c"
      },
      "source": [
        "a = float(input('nhap vao so thu nhat a = '))\n",
        "b = float(input('\\nnhap vao so thu hai b = '))\n",
        "c = float(input('\\nnhap vao so thu ba c = '))\n",
        "if a >= b:\n",
        "  if a >= c:\n",
        "    print('\\nmax = a = ',a)\n",
        "  else:\n",
        "    print('\\nmax = c = ',c)\n",
        "else:\n",
        "  if b >= c:\n",
        "    print('\\nmax = b = ',b)\n",
        "  else:\n",
        "    print('\\nmax = c = ',c)"
      ],
      "execution_count": null,
      "outputs": [
        {
          "output_type": "stream",
          "text": [
            "nhap vao so thu nhat a= 20\n",
            "\n",
            "nhap vao so thu hai b= 22\n",
            "\n",
            "nhap vao so thu ba c= 24\n",
            "\n",
            "max = c =  24.0\n"
          ],
          "name": "stdout"
        }
      ]
    },
    {
      "cell_type": "markdown",
      "metadata": {
        "id": "VXDkuAZt_Zdc",
        "colab_type": "text"
      },
      "source": [
        "EEx1:"
      ]
    },
    {
      "cell_type": "code",
      "metadata": {
        "id": "jJKA6_C6CUMt",
        "colab_type": "code",
        "colab": {
          "base_uri": "https://localhost:8080/",
          "height": 221
        },
        "outputId": "89747c17-245b-4ba5-ce5a-a0d4520b9dfb"
      },
      "source": [
        "a = []\n",
        "n = int(input('nhap so phan tu cua mang n = '))\n",
        "for i in range(n):\n",
        "  a.append(float(input('nhap so thu %d: '%(i+1))))\n",
        "max = a[0]\n",
        "for i in range(n):\n",
        "  if max < a[i]:\n",
        "    max = a[i]\n",
        "print('max = ',max)"
      ],
      "execution_count": null,
      "outputs": [
        {
          "output_type": "stream",
          "text": [
            "nhap so phan tu cua mang n = 10\n",
            "nhap so thu 1: 1\n",
            "nhap so thu 2: 2\n",
            "nhap so thu 3: 5\n",
            "nhap so thu 4: 11\n",
            "nhap so thu 5: 245\n",
            "nhap so thu 6: 14\n",
            "nhap so thu 7: 78\n",
            "nhap so thu 8: 234\n",
            "nhap so thu 9: 18\n",
            "nhap so thu 10: 44\n",
            "max =  245.0\n"
          ],
          "name": "stdout"
        }
      ]
    },
    {
      "cell_type": "markdown",
      "metadata": {
        "id": "A3KrHy0CFWfY",
        "colab_type": "text"
      },
      "source": [
        "Ex2:"
      ]
    },
    {
      "cell_type": "code",
      "metadata": {
        "id": "nGccg7JNFYps",
        "colab_type": "code",
        "colab": {
          "base_uri": "https://localhost:8080/",
          "height": 68
        },
        "outputId": "0ca229f9-6d8d-45ca-dc03-41f05d98a302"
      },
      "source": [
        "a = float(input('nhap vao so a = '))\n",
        "if a % 1 != 0:\n",
        "  print('\\na khong phai so nguyen')\n",
        "else:\n",
        "  if a % 2 == 0:\n",
        "    print('\\na la so chan')\n",
        "  else:\n",
        "    print('\\na la so le')"
      ],
      "execution_count": null,
      "outputs": [
        {
          "output_type": "stream",
          "text": [
            "nhap vao so a = 7.8\n",
            "\n",
            "a khong phai so nguyen\n"
          ],
          "name": "stdout"
        }
      ]
    },
    {
      "cell_type": "markdown",
      "metadata": {
        "id": "0SiLs99wGcoQ",
        "colab_type": "text"
      },
      "source": [
        "Ex3:"
      ]
    },
    {
      "cell_type": "code",
      "metadata": {
        "id": "mqYjv4iKGdsj",
        "colab_type": "code",
        "colab": {
          "base_uri": "https://localhost:8080/",
          "height": 102
        },
        "outputId": "11f5fc05-8ae1-49f7-e2d2-f59a4d0fa9ee"
      },
      "source": [
        "name = input('nhap vao ten cua ban: ')\n",
        "age = int(input('\\nnhap vao so tuoi cua ban:'))\n",
        "year = 100 - age + 2020\n",
        "print('\\nnam',year,name,'tron 100 tuoi')"
      ],
      "execution_count": null,
      "outputs": [
        {
          "output_type": "stream",
          "text": [
            "nhap vao ten cua ban: Trinh Trong Dinh\n",
            "\n",
            "nhap vao so tuoi cua ban:23\n",
            "\n",
            "nam 2097 Trinh Trong Dinh tron 100 tuoi\n"
          ],
          "name": "stdout"
        }
      ]
    },
    {
      "cell_type": "markdown",
      "metadata": {
        "id": "4t8uvRhRHUXk",
        "colab_type": "text"
      },
      "source": [
        "Ex4:"
      ]
    },
    {
      "cell_type": "code",
      "metadata": {
        "id": "8UzbylZzHWU7",
        "colab_type": "code",
        "colab": {
          "base_uri": "https://localhost:8080/",
          "height": 85
        },
        "outputId": "d640a624-b62f-40f5-8f25-864f866a1c91"
      },
      "source": [
        "import random\n",
        "a = random.uniform(0.1,0.99) * 10 // 1\n",
        "n = float(input('guess the number a = '))\n",
        "while n != a:\n",
        "  if n < a: \n",
        "    n = float(input('too low, guess again a = '))\n",
        "  else:\n",
        "    n = float(input('too high, guess again a = '))\n",
        "print('exactly a =',n)"
      ],
      "execution_count": null,
      "outputs": [
        {
          "output_type": "stream",
          "text": [
            "guess the number a = 7\n",
            "too high, guess again a = 4\n",
            "too low, guess again a = 5\n",
            "exactly a = 5.0\n"
          ],
          "name": "stdout"
        }
      ]
    }
  ]
}